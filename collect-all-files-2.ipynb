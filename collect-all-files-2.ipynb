{
 "cells": [
  {
   "cell_type": "code",
   "execution_count": null,
   "source": [
    "'''\n",
    "!DOCSTRING\n",
    "This notebook is to collect the yearly data.\n",
    "'''"
   ],
   "outputs": [],
   "metadata": {}
  },
  {
   "cell_type": "code",
   "execution_count": 1,
   "source": [
    "import os\n",
    "import pandas as pd"
   ],
   "outputs": [],
   "metadata": {}
  },
  {
   "cell_type": "markdown",
   "source": [],
   "metadata": {}
  },
  {
   "cell_type": "code",
   "execution_count": 4,
   "source": [
    "os.getcwd()"
   ],
   "outputs": [
    {
     "output_type": "execute_result",
     "data": {
      "text/plain": [
       "'/Users/naren/Documents/Northeastern/Courses/IE 6600/Project 2'"
      ]
     },
     "metadata": {},
     "execution_count": 4
    }
   ],
   "metadata": {}
  },
  {
   "cell_type": "code",
   "execution_count": 5,
   "source": [
    "os.chdir(\"/Users/naren/Documents/Northeastern/Courses/IE 6600/Project 2/Full Dataset/CSV/\")"
   ],
   "outputs": [],
   "metadata": {}
  },
  {
   "cell_type": "code",
   "execution_count": 6,
   "source": [
    "os.listdir()"
   ],
   "outputs": [
    {
     "output_type": "execute_result",
     "data": {
      "text/plain": [
       "['201805-capitalbikeshare-tripdata.csv',\n",
       " '2016Q2-capitalbikeshare-tripdata.csv',\n",
       " '201910-capitalbikeshare-tripdata.csv',\n",
       " '2013Q2-capitalbikeshare-tripdata.csv',\n",
       " '2015Q4-capitalbikeshare-tripdata.csv',\n",
       " '202004-capitalbikeshare-tripdata.csv',\n",
       " '201901-capitalbikeshare-tripdata.csv',\n",
       " '201802-capitalbikeshare-tripdata.csv',\n",
       " '202107-capitalbikeshare-tripdata.csv',\n",
       " '.DS_Store',\n",
       " '2012Q1-capitalbikeshare-tripdata.csv',\n",
       " '201909-capitalbikeshare-tripdata.csv',\n",
       " '202012-capitalbikeshare-tripdata.csv',\n",
       " '202108-capitalbikeshare-tripdata.csv',\n",
       " '202003-capitalbikeshare-tripdata.csv',\n",
       " '2017Q1-capitalbikeshare-tripdata.csv',\n",
       " '201906-capitalbikeshare-tripdata.csv',\n",
       " '2015Q3-capitalbikeshare-tripdata.csv',\n",
       " '202005-capitalbikeshare-tripdata.csv',\n",
       " '202110-capitalbikeshare-tripdata.csv',\n",
       " '2013Q3-capitalbikeshare-tripdata.csv',\n",
       " '201911-capitalbikeshare-tripdata.csv',\n",
       " '2014Q1-capitalbikeshare-tripdata.csv',\n",
       " '201804-capitalbikeshare-tripdata.csv',\n",
       " '202101-capitalbikeshare-tripdata.csv',\n",
       " '2016Q3-capitalbikeshare-tripdata.csv',\n",
       " '2015Q2-capitalbikeshare-tripdata.csv',\n",
       " '202002-capitalbikeshare-tripdata.csv',\n",
       " '201907-capitalbikeshare-tripdata.csv',\n",
       " '201812-capitalbikeshare-tripdata.csv',\n",
       " '202109-capitalbikeshare-tripdata.csv',\n",
       " '2013Q4-capitalbikeshare-tripdata.csv',\n",
       " '201908-capitalbikeshare-tripdata.csv',\n",
       " '201803-capitalbikeshare-tripdata.csv',\n",
       " '202106-capitalbikeshare-tripdata.csv',\n",
       " '2016Q4-capitalbikeshare-tripdata.csv',\n",
       " '202001-capitalbikeshare-tripdata.csv',\n",
       " '2017Q3-capitalbikeshare-tripdata.csv',\n",
       " '201904-capitalbikeshare-tripdata.csv',\n",
       " '2015Q1-capitalbikeshare-tripdata.csv',\n",
       " '201811-capitalbikeshare-tripdata.csv',\n",
       " '2010-capitalbikeshare-tripdata.csv',\n",
       " '2012Q3-capitalbikeshare-tripdata.csv',\n",
       " '202010-capitalbikeshare-tripdata.csv',\n",
       " '202105-capitalbikeshare-tripdata.csv',\n",
       " '202006-capitalbikeshare-tripdata.csv',\n",
       " '2017Q4-capitalbikeshare-tripdata.csv',\n",
       " '201903-capitalbikeshare-tripdata.csv',\n",
       " '201808-capitalbikeshare-tripdata.csv',\n",
       " '201912-capitalbikeshare-tripdata.csv',\n",
       " '202009-capitalbikeshare-tripdata.csv',\n",
       " '2012Q4-capitalbikeshare-tripdata.csv',\n",
       " '201801_capitalbikeshare_tripdata.csv',\n",
       " '201807-capitalbikeshare-tripdata.csv',\n",
       " '202102-capitalbikeshare-tripdata.csv',\n",
       " '2014Q2-capitalbikeshare-tripdata.csv',\n",
       " '202104-capitalbikeshare-tripdata.csv',\n",
       " '2014Q4-capitalbikeshare-tripdata.csv',\n",
       " '2012Q2-capitalbikeshare-tripdata.csv',\n",
       " '202011-capitalbikeshare-tripdata.csv',\n",
       " '2011-capitalbikeshare-tripdata.csv',\n",
       " '201810-capitalbikeshare-tripdata.csv',\n",
       " '2017Q2-capitalbikeshare-tripdata.csv',\n",
       " '201905-capitalbikeshare-tripdata.csv',\n",
       " '2014Q3-capitalbikeshare-tripdata.csv',\n",
       " '201806-capitalbikeshare-tripdata.csv',\n",
       " '202103-capitalbikeshare-tripdata.csv',\n",
       " '2016Q1-capitalbikeshare-tripdata.csv',\n",
       " '202008-capitalbikeshare-tripdata.csv',\n",
       " '201809-capitalbikeshare-tripdata.csv',\n",
       " '2013Q1-capitalbikeshare-tripdata.csv',\n",
       " '202007-capitalbikeshare-tripdata.csv',\n",
       " '201902-capitalbikeshare-tripdata.csv']"
      ]
     },
     "metadata": {},
     "execution_count": 6
    }
   ],
   "metadata": {}
  },
  {
   "cell_type": "markdown",
   "source": [
    "2020-04 is the marker"
   ],
   "metadata": {}
  },
  {
   "cell_type": "code",
   "execution_count": 8,
   "source": [
    "csv_list = os.listdir()\n",
    "csv_list.sort()\n",
    "csv_list.remove('.DS_Store')\n",
    "csv_list1 = csv_list[:53]\n",
    "csv_list2 = csv_list[53:72]"
   ],
   "outputs": [],
   "metadata": {}
  },
  {
   "cell_type": "code",
   "execution_count": 9,
   "source": [
    "collect_df = pd.DataFrame()\n",
    "\n",
    "colnamedict = dict(zip(['Duration', 'Start date', 'End date', 'Start station number', \n",
    "                'End station number', 'Member type'], ['ride_id', 'started_at', 'ended_at', \n",
    "                'start_station_id', 'end_station_id', 'member_casual']))"
   ],
   "outputs": [],
   "metadata": {}
  },
  {
   "cell_type": "code",
   "execution_count": 10,
   "source": [
    "for f in csv_list1:\n",
    "    df = pd.read_csv(f, \n",
    "    usecols=['Duration',\n",
    "            'Start date',\n",
    "            'End date',         \n",
    "            'Start station number',\n",
    "            'End station number',\n",
    "            'Member type'])\n",
    "    df.rename(columns=colnamedict, inplace=True)\n",
    "    collect_df = collect_df.append(df, ignore_index=True)\n",
    "\n",
    "    l = list(df)\n",
    "    del df\n",
    "    del l\n",
    "    print(f)\n",
    "\n",
    "for f in csv_list2:\n",
    "    df = pd.read_csv(f,\n",
    "        usecols=['ride_id',         #To convert to duration by ended_at - started_at\n",
    "            'started_at',\n",
    "            'ended_at',\n",
    "            'start_station_id',\n",
    "            'end_station_id',\n",
    "            'member_casual'])\n",
    "    collect_df = collect_df.append(df, ignore_index=True)\n",
    "    print(f)\n",
    "\n",
    "    l = list(df)\n",
    "    del df\n",
    "    del l"
   ],
   "outputs": [
    {
     "output_type": "stream",
     "name": "stdout",
     "text": [
      "2010-capitalbikeshare-tripdata.csv\n",
      "2011-capitalbikeshare-tripdata.csv\n",
      "2012Q1-capitalbikeshare-tripdata.csv\n",
      "2012Q2-capitalbikeshare-tripdata.csv\n",
      "2012Q3-capitalbikeshare-tripdata.csv\n",
      "2012Q4-capitalbikeshare-tripdata.csv\n",
      "2013Q1-capitalbikeshare-tripdata.csv\n",
      "2013Q2-capitalbikeshare-tripdata.csv\n",
      "2013Q3-capitalbikeshare-tripdata.csv\n",
      "2013Q4-capitalbikeshare-tripdata.csv\n",
      "2014Q1-capitalbikeshare-tripdata.csv\n",
      "2014Q2-capitalbikeshare-tripdata.csv\n",
      "2014Q3-capitalbikeshare-tripdata.csv\n",
      "2014Q4-capitalbikeshare-tripdata.csv\n",
      "2015Q1-capitalbikeshare-tripdata.csv\n",
      "2015Q2-capitalbikeshare-tripdata.csv\n",
      "2015Q3-capitalbikeshare-tripdata.csv\n",
      "2015Q4-capitalbikeshare-tripdata.csv\n",
      "2016Q1-capitalbikeshare-tripdata.csv\n",
      "2016Q2-capitalbikeshare-tripdata.csv\n",
      "2016Q3-capitalbikeshare-tripdata.csv\n",
      "2016Q4-capitalbikeshare-tripdata.csv\n",
      "2017Q1-capitalbikeshare-tripdata.csv\n",
      "2017Q2-capitalbikeshare-tripdata.csv\n",
      "2017Q3-capitalbikeshare-tripdata.csv\n",
      "2017Q4-capitalbikeshare-tripdata.csv\n",
      "201801_capitalbikeshare_tripdata.csv\n",
      "201802-capitalbikeshare-tripdata.csv\n",
      "201803-capitalbikeshare-tripdata.csv\n",
      "201804-capitalbikeshare-tripdata.csv\n",
      "201805-capitalbikeshare-tripdata.csv\n",
      "201806-capitalbikeshare-tripdata.csv\n",
      "201807-capitalbikeshare-tripdata.csv\n",
      "201808-capitalbikeshare-tripdata.csv\n",
      "201809-capitalbikeshare-tripdata.csv\n",
      "201810-capitalbikeshare-tripdata.csv\n",
      "201811-capitalbikeshare-tripdata.csv\n",
      "201812-capitalbikeshare-tripdata.csv\n",
      "201901-capitalbikeshare-tripdata.csv\n",
      "201902-capitalbikeshare-tripdata.csv\n",
      "201903-capitalbikeshare-tripdata.csv\n",
      "201904-capitalbikeshare-tripdata.csv\n",
      "201905-capitalbikeshare-tripdata.csv\n",
      "201906-capitalbikeshare-tripdata.csv\n",
      "201907-capitalbikeshare-tripdata.csv\n",
      "201908-capitalbikeshare-tripdata.csv\n",
      "201909-capitalbikeshare-tripdata.csv\n",
      "201910-capitalbikeshare-tripdata.csv\n",
      "201911-capitalbikeshare-tripdata.csv\n",
      "201912-capitalbikeshare-tripdata.csv\n",
      "202001-capitalbikeshare-tripdata.csv\n",
      "202002-capitalbikeshare-tripdata.csv\n",
      "202003-capitalbikeshare-tripdata.csv\n",
      "202004-capitalbikeshare-tripdata.csv\n",
      "202005-capitalbikeshare-tripdata.csv\n",
      "202006-capitalbikeshare-tripdata.csv\n",
      "202007-capitalbikeshare-tripdata.csv\n",
      "202008-capitalbikeshare-tripdata.csv\n",
      "202009-capitalbikeshare-tripdata.csv\n",
      "202010-capitalbikeshare-tripdata.csv\n",
      "202011-capitalbikeshare-tripdata.csv\n",
      "202012-capitalbikeshare-tripdata.csv\n",
      "202101-capitalbikeshare-tripdata.csv\n"
     ]
    },
    {
     "output_type": "stream",
     "name": "stderr",
     "text": [
      "/Library/Frameworks/Python.framework/Versions/3.9/lib/python3.9/site-packages/IPython/core/interactiveshell.py:3444: DtypeWarning: Columns (5,7) have mixed types.Specify dtype option on import or set low_memory=False.\n",
      "  exec(code_obj, self.user_global_ns, self.user_ns)\n"
     ]
    },
    {
     "output_type": "stream",
     "name": "stdout",
     "text": [
      "202102-capitalbikeshare-tripdata.csv\n",
      "202103-capitalbikeshare-tripdata.csv\n",
      "202104-capitalbikeshare-tripdata.csv\n",
      "202105-capitalbikeshare-tripdata.csv\n",
      "202106-capitalbikeshare-tripdata.csv\n",
      "202107-capitalbikeshare-tripdata.csv\n",
      "202108-capitalbikeshare-tripdata.csv\n",
      "202109-capitalbikeshare-tripdata.csv\n",
      "202110-capitalbikeshare-tripdata.csv\n"
     ]
    }
   ],
   "metadata": {}
  },
  {
   "cell_type": "code",
   "execution_count": 11,
   "source": [
    "collect_df.started_at = collect_df.started_at.astype('datetime64')\n",
    "collect_df.ended_at = collect_df.ended_at.astype('datetime64')\n",
    "\n",
    "collect_df.ride_id = (collect_df.ended_at - collect_df.started_at).dt.total_seconds()\n",
    "collect_df.ride_id = collect_df.ride_id.astype('int32')\n",
    "\n",
    "collect_df.rename(columns={\"ride_id\": \"duration\"}, inplace=True)\n"
   ],
   "outputs": [],
   "metadata": {}
  },
  {
   "cell_type": "code",
   "execution_count": 12,
   "source": [
    "collect_df"
   ],
   "outputs": [
    {
     "output_type": "execute_result",
     "data": {
      "text/html": [
       "<div>\n",
       "<style scoped>\n",
       "    .dataframe tbody tr th:only-of-type {\n",
       "        vertical-align: middle;\n",
       "    }\n",
       "\n",
       "    .dataframe tbody tr th {\n",
       "        vertical-align: top;\n",
       "    }\n",
       "\n",
       "    .dataframe thead th {\n",
       "        text-align: right;\n",
       "    }\n",
       "</style>\n",
       "<table border=\"1\" class=\"dataframe\">\n",
       "  <thead>\n",
       "    <tr style=\"text-align: right;\">\n",
       "      <th></th>\n",
       "      <th>duration</th>\n",
       "      <th>started_at</th>\n",
       "      <th>ended_at</th>\n",
       "      <th>start_station_id</th>\n",
       "      <th>end_station_id</th>\n",
       "      <th>member_casual</th>\n",
       "    </tr>\n",
       "  </thead>\n",
       "  <tbody>\n",
       "    <tr>\n",
       "      <th>0</th>\n",
       "      <td>1012</td>\n",
       "      <td>2010-09-20 11:27:04</td>\n",
       "      <td>2010-09-20 11:43:56</td>\n",
       "      <td>31208.0</td>\n",
       "      <td>31108.0</td>\n",
       "      <td>Member</td>\n",
       "    </tr>\n",
       "    <tr>\n",
       "      <th>1</th>\n",
       "      <td>61</td>\n",
       "      <td>2010-09-20 11:41:22</td>\n",
       "      <td>2010-09-20 11:42:23</td>\n",
       "      <td>31209.0</td>\n",
       "      <td>31209.0</td>\n",
       "      <td>Member</td>\n",
       "    </tr>\n",
       "    <tr>\n",
       "      <th>2</th>\n",
       "      <td>2690</td>\n",
       "      <td>2010-09-20 12:05:37</td>\n",
       "      <td>2010-09-20 12:50:27</td>\n",
       "      <td>31600.0</td>\n",
       "      <td>31100.0</td>\n",
       "      <td>Member</td>\n",
       "    </tr>\n",
       "    <tr>\n",
       "      <th>3</th>\n",
       "      <td>1407</td>\n",
       "      <td>2010-09-20 12:06:05</td>\n",
       "      <td>2010-09-20 12:29:32</td>\n",
       "      <td>31600.0</td>\n",
       "      <td>31602.0</td>\n",
       "      <td>Member</td>\n",
       "    </tr>\n",
       "    <tr>\n",
       "      <th>4</th>\n",
       "      <td>1414</td>\n",
       "      <td>2010-09-20 12:10:43</td>\n",
       "      <td>2010-09-20 12:34:17</td>\n",
       "      <td>31100.0</td>\n",
       "      <td>31201.0</td>\n",
       "      <td>Member</td>\n",
       "    </tr>\n",
       "    <tr>\n",
       "      <th>...</th>\n",
       "      <td>...</td>\n",
       "      <td>...</td>\n",
       "      <td>...</td>\n",
       "      <td>...</td>\n",
       "      <td>...</td>\n",
       "      <td>...</td>\n",
       "    </tr>\n",
       "    <tr>\n",
       "      <th>30592630</th>\n",
       "      <td>2766</td>\n",
       "      <td>2021-10-27 19:17:28</td>\n",
       "      <td>2021-10-27 20:03:34</td>\n",
       "      <td>31291.0</td>\n",
       "      <td>31707.0</td>\n",
       "      <td>member</td>\n",
       "    </tr>\n",
       "    <tr>\n",
       "      <th>30592631</th>\n",
       "      <td>971</td>\n",
       "      <td>2021-10-05 18:10:06</td>\n",
       "      <td>2021-10-05 18:26:17</td>\n",
       "      <td>31291.0</td>\n",
       "      <td>31649.0</td>\n",
       "      <td>casual</td>\n",
       "    </tr>\n",
       "    <tr>\n",
       "      <th>30592632</th>\n",
       "      <td>396</td>\n",
       "      <td>2021-10-14 13:32:51</td>\n",
       "      <td>2021-10-14 13:39:27</td>\n",
       "      <td>31230.0</td>\n",
       "      <td>31266.0</td>\n",
       "      <td>member</td>\n",
       "    </tr>\n",
       "    <tr>\n",
       "      <th>30592633</th>\n",
       "      <td>428</td>\n",
       "      <td>2021-10-28 19:13:39</td>\n",
       "      <td>2021-10-28 19:20:47</td>\n",
       "      <td>31201.0</td>\n",
       "      <td>31266.0</td>\n",
       "      <td>member</td>\n",
       "    </tr>\n",
       "    <tr>\n",
       "      <th>30592634</th>\n",
       "      <td>1096</td>\n",
       "      <td>2021-10-15 01:21:01</td>\n",
       "      <td>2021-10-15 01:39:17</td>\n",
       "      <td>31201.0</td>\n",
       "      <td>31266.0</td>\n",
       "      <td>member</td>\n",
       "    </tr>\n",
       "  </tbody>\n",
       "</table>\n",
       "<p>30592635 rows × 6 columns</p>\n",
       "</div>"
      ],
      "text/plain": [
       "          duration          started_at            ended_at start_station_id  \\\n",
       "0             1012 2010-09-20 11:27:04 2010-09-20 11:43:56          31208.0   \n",
       "1               61 2010-09-20 11:41:22 2010-09-20 11:42:23          31209.0   \n",
       "2             2690 2010-09-20 12:05:37 2010-09-20 12:50:27          31600.0   \n",
       "3             1407 2010-09-20 12:06:05 2010-09-20 12:29:32          31600.0   \n",
       "4             1414 2010-09-20 12:10:43 2010-09-20 12:34:17          31100.0   \n",
       "...            ...                 ...                 ...              ...   \n",
       "30592630      2766 2021-10-27 19:17:28 2021-10-27 20:03:34          31291.0   \n",
       "30592631       971 2021-10-05 18:10:06 2021-10-05 18:26:17          31291.0   \n",
       "30592632       396 2021-10-14 13:32:51 2021-10-14 13:39:27          31230.0   \n",
       "30592633       428 2021-10-28 19:13:39 2021-10-28 19:20:47          31201.0   \n",
       "30592634      1096 2021-10-15 01:21:01 2021-10-15 01:39:17          31201.0   \n",
       "\n",
       "         end_station_id member_casual  \n",
       "0               31108.0        Member  \n",
       "1               31209.0        Member  \n",
       "2               31100.0        Member  \n",
       "3               31602.0        Member  \n",
       "4               31201.0        Member  \n",
       "...                 ...           ...  \n",
       "30592630        31707.0        member  \n",
       "30592631        31649.0        casual  \n",
       "30592632        31266.0        member  \n",
       "30592633        31266.0        member  \n",
       "30592634        31266.0        member  \n",
       "\n",
       "[30592635 rows x 6 columns]"
      ]
     },
     "metadata": {},
     "execution_count": 12
    }
   ],
   "metadata": {}
  },
  {
   "cell_type": "code",
   "execution_count": 13,
   "source": [
    "collect_df = collect_df[collect_df.duration > 0]"
   ],
   "outputs": [],
   "metadata": {}
  },
  {
   "cell_type": "code",
   "execution_count": 14,
   "source": [
    "collect_df.dropna(inplace=True)"
   ],
   "outputs": [
    {
     "output_type": "stream",
     "name": "stderr",
     "text": [
      "/Library/Frameworks/Python.framework/Versions/3.9/lib/python3.9/site-packages/pandas/util/_decorators.py:311: SettingWithCopyWarning: \n",
      "A value is trying to be set on a copy of a slice from a DataFrame\n",
      "\n",
      "See the caveats in the documentation: https://pandas.pydata.org/pandas-docs/stable/user_guide/indexing.html#returning-a-view-versus-a-copy\n",
      "  return func(*args, **kwargs)\n"
     ]
    }
   ],
   "metadata": {}
  },
  {
   "cell_type": "code",
   "execution_count": 15,
   "source": [
    "import re \n",
    "\n",
    "digit_pattern = re.compile(\"^\\d+\\.*\\d*$\")\n",
    "a = list(collect_df[\"start_station_id\"])\n",
    "filt = list(map(lambda x: bool(digit_pattern.search(str(x))), a))\n",
    "\n",
    "collect_df = collect_df[filt]"
   ],
   "outputs": [],
   "metadata": {}
  },
  {
   "cell_type": "code",
   "execution_count": 16,
   "source": [
    "a = list(collect_df[\"end_station_id\"])\n",
    "filt = list(map(lambda x: bool(digit_pattern.search(str(x))), a))\n",
    "\n",
    "collect_df = collect_df[filt]"
   ],
   "outputs": [],
   "metadata": {}
  },
  {
   "cell_type": "code",
   "execution_count": 17,
   "source": [
    "collect_df.start_station_id = collect_df.start_station_id.astype(int)\n",
    "collect_df.end_station_id = collect_df.end_station_id.astype(int)"
   ],
   "outputs": [],
   "metadata": {}
  },
  {
   "cell_type": "code",
   "execution_count": 34,
   "source": [
    "yearly_df = collect_df[[\"duration\", \"start_year\"]].groupby([\"start_year\"]).agg(\"count\")\n",
    "yearly_df"
   ],
   "outputs": [
    {
     "output_type": "execute_result",
     "data": {
      "text/html": [
       "<div>\n",
       "<style scoped>\n",
       "    .dataframe tbody tr th:only-of-type {\n",
       "        vertical-align: middle;\n",
       "    }\n",
       "\n",
       "    .dataframe tbody tr th {\n",
       "        vertical-align: top;\n",
       "    }\n",
       "\n",
       "    .dataframe thead th {\n",
       "        text-align: right;\n",
       "    }\n",
       "</style>\n",
       "<table border=\"1\" class=\"dataframe\">\n",
       "  <thead>\n",
       "    <tr style=\"text-align: right;\">\n",
       "      <th></th>\n",
       "      <th>duration</th>\n",
       "    </tr>\n",
       "    <tr>\n",
       "      <th>start_year</th>\n",
       "      <th></th>\n",
       "    </tr>\n",
       "  </thead>\n",
       "  <tbody>\n",
       "    <tr>\n",
       "      <th>2010</th>\n",
       "      <td>115595</td>\n",
       "    </tr>\n",
       "    <tr>\n",
       "      <th>2011</th>\n",
       "      <td>1226758</td>\n",
       "    </tr>\n",
       "    <tr>\n",
       "      <th>2012</th>\n",
       "      <td>2028896</td>\n",
       "    </tr>\n",
       "    <tr>\n",
       "      <th>2013</th>\n",
       "      <td>2555522</td>\n",
       "    </tr>\n",
       "    <tr>\n",
       "      <th>2014</th>\n",
       "      <td>2913140</td>\n",
       "    </tr>\n",
       "    <tr>\n",
       "      <th>2015</th>\n",
       "      <td>3185881</td>\n",
       "    </tr>\n",
       "    <tr>\n",
       "      <th>2016</th>\n",
       "      <td>3333974</td>\n",
       "    </tr>\n",
       "    <tr>\n",
       "      <th>2017</th>\n",
       "      <td>3757769</td>\n",
       "    </tr>\n",
       "    <tr>\n",
       "      <th>2018</th>\n",
       "      <td>3542684</td>\n",
       "    </tr>\n",
       "    <tr>\n",
       "      <th>2019</th>\n",
       "      <td>3398417</td>\n",
       "    </tr>\n",
       "    <tr>\n",
       "      <th>2020</th>\n",
       "      <td>2080727</td>\n",
       "    </tr>\n",
       "    <tr>\n",
       "      <th>2021</th>\n",
       "      <td>2056571</td>\n",
       "    </tr>\n",
       "  </tbody>\n",
       "</table>\n",
       "</div>"
      ],
      "text/plain": [
       "            duration\n",
       "start_year          \n",
       "2010          115595\n",
       "2011         1226758\n",
       "2012         2028896\n",
       "2013         2555522\n",
       "2014         2913140\n",
       "2015         3185881\n",
       "2016         3333974\n",
       "2017         3757769\n",
       "2018         3542684\n",
       "2019         3398417\n",
       "2020         2080727\n",
       "2021         2056571"
      ]
     },
     "metadata": {},
     "execution_count": 34
    }
   ],
   "metadata": {}
  },
  {
   "cell_type": "code",
   "execution_count": 35,
   "source": [
    "yearly_df.to_csv(\"yearly_data.csv\")"
   ],
   "outputs": [],
   "metadata": {}
  }
 ],
 "metadata": {
  "orig_nbformat": 4,
  "language_info": {
   "name": "python",
   "version": "3.9.7",
   "mimetype": "text/x-python",
   "codemirror_mode": {
    "name": "ipython",
    "version": 3
   },
   "pygments_lexer": "ipython3",
   "nbconvert_exporter": "python",
   "file_extension": ".py"
  },
  "kernelspec": {
   "name": "python3",
   "display_name": "Python 3.9.7 64-bit"
  },
  "interpreter": {
   "hash": "aee8b7b246df8f9039afb4144a1f6fd8d2ca17a180786b69acc140d282b71a49"
  }
 },
 "nbformat": 4,
 "nbformat_minor": 2
}