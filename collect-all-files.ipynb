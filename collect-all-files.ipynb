{
 "cells": [
  {
   "cell_type": "code",
   "execution_count": null,
   "source": [
    "'''\n",
    "!DOCSTRING\n",
    "This notebook intends to collect all the rows from each CSV and stack it\n",
    "into one single CSV file.\n",
    "'''"
   ],
   "outputs": [],
   "metadata": {}
  },
  {
   "cell_type": "code",
   "execution_count": 40,
   "source": [
    "import os\n",
    "import pandas as pd"
   ],
   "outputs": [],
   "metadata": {}
  },
  {
   "cell_type": "code",
   "execution_count": 41,
   "source": [
    "os.getcwd()"
   ],
   "outputs": [
    {
     "output_type": "execute_result",
     "data": {
      "text/plain": [
       "'/Users/naren/Documents/Northeastern/Courses/IE 6600/Project 2/Full Dataset/CSV'"
      ]
     },
     "metadata": {},
     "execution_count": 41
    }
   ],
   "metadata": {}
  },
  {
   "cell_type": "code",
   "execution_count": 42,
   "source": [
    "os.chdir(\"/Users/naren/Documents/Northeastern/Courses/IE 6600/Project 2/Full Dataset/CSV/\")"
   ],
   "outputs": [],
   "metadata": {}
  },
  {
   "cell_type": "code",
   "execution_count": 43,
   "source": [
    "os.listdir()"
   ],
   "outputs": [
    {
     "output_type": "execute_result",
     "data": {
      "text/plain": [
       "['201805-capitalbikeshare-tripdata.csv',\n",
       " '2016Q2-capitalbikeshare-tripdata.csv',\n",
       " '201910-capitalbikeshare-tripdata.csv',\n",
       " '2013Q2-capitalbikeshare-tripdata.csv',\n",
       " '2015Q4-capitalbikeshare-tripdata.csv',\n",
       " '202004-capitalbikeshare-tripdata.csv',\n",
       " '201901-capitalbikeshare-tripdata.csv',\n",
       " '201802-capitalbikeshare-tripdata.csv',\n",
       " '202107-capitalbikeshare-tripdata.csv',\n",
       " '.DS_Store',\n",
       " '2012Q1-capitalbikeshare-tripdata.csv',\n",
       " '201909-capitalbikeshare-tripdata.csv',\n",
       " '202012-capitalbikeshare-tripdata.csv',\n",
       " '202108-capitalbikeshare-tripdata.csv',\n",
       " '202003-capitalbikeshare-tripdata.csv',\n",
       " '2017Q1-capitalbikeshare-tripdata.csv',\n",
       " '201906-capitalbikeshare-tripdata.csv',\n",
       " '2015Q3-capitalbikeshare-tripdata.csv',\n",
       " '202005-capitalbikeshare-tripdata.csv',\n",
       " '202110-capitalbikeshare-tripdata.csv',\n",
       " '2013Q3-capitalbikeshare-tripdata.csv',\n",
       " '201911-capitalbikeshare-tripdata.csv',\n",
       " '2014Q1-capitalbikeshare-tripdata.csv',\n",
       " '201804-capitalbikeshare-tripdata.csv',\n",
       " '202101-capitalbikeshare-tripdata.csv',\n",
       " '2016Q3-capitalbikeshare-tripdata.csv',\n",
       " '2015Q2-capitalbikeshare-tripdata.csv',\n",
       " '202002-capitalbikeshare-tripdata.csv',\n",
       " '201907-capitalbikeshare-tripdata.csv',\n",
       " '201812-capitalbikeshare-tripdata.csv',\n",
       " '202109-capitalbikeshare-tripdata.csv',\n",
       " '2013Q4-capitalbikeshare-tripdata.csv',\n",
       " '201908-capitalbikeshare-tripdata.csv',\n",
       " '201803-capitalbikeshare-tripdata.csv',\n",
       " '202106-capitalbikeshare-tripdata.csv',\n",
       " '2016Q4-capitalbikeshare-tripdata.csv',\n",
       " '202001-capitalbikeshare-tripdata.csv',\n",
       " '2017Q3-capitalbikeshare-tripdata.csv',\n",
       " '201904-capitalbikeshare-tripdata.csv',\n",
       " '2015Q1-capitalbikeshare-tripdata.csv',\n",
       " '201811-capitalbikeshare-tripdata.csv',\n",
       " '2010-capitalbikeshare-tripdata.csv',\n",
       " '2012Q3-capitalbikeshare-tripdata.csv',\n",
       " '202010-capitalbikeshare-tripdata.csv',\n",
       " '202105-capitalbikeshare-tripdata.csv',\n",
       " '202006-capitalbikeshare-tripdata.csv',\n",
       " '2017Q4-capitalbikeshare-tripdata.csv',\n",
       " '201903-capitalbikeshare-tripdata.csv',\n",
       " '201808-capitalbikeshare-tripdata.csv',\n",
       " '201912-capitalbikeshare-tripdata.csv',\n",
       " '202009-capitalbikeshare-tripdata.csv',\n",
       " '2012Q4-capitalbikeshare-tripdata.csv',\n",
       " '201801_capitalbikeshare_tripdata.csv',\n",
       " '201807-capitalbikeshare-tripdata.csv',\n",
       " '202102-capitalbikeshare-tripdata.csv',\n",
       " '2014Q2-capitalbikeshare-tripdata.csv',\n",
       " '202104-capitalbikeshare-tripdata.csv',\n",
       " '2014Q4-capitalbikeshare-tripdata.csv',\n",
       " '2012Q2-capitalbikeshare-tripdata.csv',\n",
       " '202011-capitalbikeshare-tripdata.csv',\n",
       " '2011-capitalbikeshare-tripdata.csv',\n",
       " '201810-capitalbikeshare-tripdata.csv',\n",
       " '2017Q2-capitalbikeshare-tripdata.csv',\n",
       " '201905-capitalbikeshare-tripdata.csv',\n",
       " '2014Q3-capitalbikeshare-tripdata.csv',\n",
       " '201806-capitalbikeshare-tripdata.csv',\n",
       " '202103-capitalbikeshare-tripdata.csv',\n",
       " '2016Q1-capitalbikeshare-tripdata.csv',\n",
       " '202008-capitalbikeshare-tripdata.csv',\n",
       " '201809-capitalbikeshare-tripdata.csv',\n",
       " '2013Q1-capitalbikeshare-tripdata.csv',\n",
       " '202007-capitalbikeshare-tripdata.csv',\n",
       " '201902-capitalbikeshare-tripdata.csv']"
      ]
     },
     "metadata": {},
     "execution_count": 43
    }
   ],
   "metadata": {}
  },
  {
   "cell_type": "code",
   "execution_count": 44,
   "source": [
    "new_df = dict()\n",
    "csv_list = os.listdir()\n",
    "csv_list.sort()\n",
    "\n",
    "csv_list.remove(\".DS_Store\")\n",
    "try:\n",
    "    for f in csv_list:\n",
    "        df = pd.read_csv(f, nrows=1)\n",
    "        new_df[f[:6]] = list(df.columns)\n",
    "except Exception as E:\n",
    "    print(E)"
   ],
   "outputs": [],
   "metadata": {}
  },
  {
   "cell_type": "code",
   "execution_count": 45,
   "source": [
    "f[:6]"
   ],
   "outputs": [
    {
     "output_type": "execute_result",
     "data": {
      "text/plain": [
       "'202110'"
      ]
     },
     "metadata": {},
     "execution_count": 45
    }
   ],
   "metadata": {}
  },
  {
   "cell_type": "code",
   "execution_count": 46,
   "source": [
    "b = list(new_df.values())\n",
    "\n",
    "temp_list = list()\n",
    "for x in b:\n",
    "    if x not in temp_list:\n",
    "        temp_list.append(x)\n",
    "\n",
    "temp_list"
   ],
   "outputs": [
    {
     "output_type": "execute_result",
     "data": {
      "text/plain": [
       "[['Duration',\n",
       "  'Start date',\n",
       "  'End date',\n",
       "  'Start station number',\n",
       "  'Start station',\n",
       "  'End station number',\n",
       "  'End station',\n",
       "  'Bike number',\n",
       "  'Member type'],\n",
       " ['ride_id',\n",
       "  'rideable_type',\n",
       "  'started_at',\n",
       "  'ended_at',\n",
       "  'start_station_name',\n",
       "  'Address',\n",
       "  'start_station_id',\n",
       "  'end_station_name',\n",
       "  'end_station_id',\n",
       "  'start_lat',\n",
       "  'start_lng',\n",
       "  'end_lat',\n",
       "  'end_lng',\n",
       "  'member_casual'],\n",
       " ['ride_id',\n",
       "  'rideable_type',\n",
       "  'started_at',\n",
       "  'ended_at',\n",
       "  'start_station_name',\n",
       "  'start_station_id',\n",
       "  'end_station_name',\n",
       "  'end_station_id',\n",
       "  'start_lat',\n",
       "  'start_lng',\n",
       "  'end_lat',\n",
       "  'end_lng',\n",
       "  'member_casual']]"
      ]
     },
     "metadata": {},
     "execution_count": 46
    }
   ],
   "metadata": {}
  },
  {
   "cell_type": "code",
   "execution_count": 47,
   "source": [
    "csv_list"
   ],
   "outputs": [
    {
     "output_type": "execute_result",
     "data": {
      "text/plain": [
       "['2010-capitalbikeshare-tripdata.csv',\n",
       " '2011-capitalbikeshare-tripdata.csv',\n",
       " '2012Q1-capitalbikeshare-tripdata.csv',\n",
       " '2012Q2-capitalbikeshare-tripdata.csv',\n",
       " '2012Q3-capitalbikeshare-tripdata.csv',\n",
       " '2012Q4-capitalbikeshare-tripdata.csv',\n",
       " '2013Q1-capitalbikeshare-tripdata.csv',\n",
       " '2013Q2-capitalbikeshare-tripdata.csv',\n",
       " '2013Q3-capitalbikeshare-tripdata.csv',\n",
       " '2013Q4-capitalbikeshare-tripdata.csv',\n",
       " '2014Q1-capitalbikeshare-tripdata.csv',\n",
       " '2014Q2-capitalbikeshare-tripdata.csv',\n",
       " '2014Q3-capitalbikeshare-tripdata.csv',\n",
       " '2014Q4-capitalbikeshare-tripdata.csv',\n",
       " '2015Q1-capitalbikeshare-tripdata.csv',\n",
       " '2015Q2-capitalbikeshare-tripdata.csv',\n",
       " '2015Q3-capitalbikeshare-tripdata.csv',\n",
       " '2015Q4-capitalbikeshare-tripdata.csv',\n",
       " '2016Q1-capitalbikeshare-tripdata.csv',\n",
       " '2016Q2-capitalbikeshare-tripdata.csv',\n",
       " '2016Q3-capitalbikeshare-tripdata.csv',\n",
       " '2016Q4-capitalbikeshare-tripdata.csv',\n",
       " '2017Q1-capitalbikeshare-tripdata.csv',\n",
       " '2017Q2-capitalbikeshare-tripdata.csv',\n",
       " '2017Q3-capitalbikeshare-tripdata.csv',\n",
       " '2017Q4-capitalbikeshare-tripdata.csv',\n",
       " '201801_capitalbikeshare_tripdata.csv',\n",
       " '201802-capitalbikeshare-tripdata.csv',\n",
       " '201803-capitalbikeshare-tripdata.csv',\n",
       " '201804-capitalbikeshare-tripdata.csv',\n",
       " '201805-capitalbikeshare-tripdata.csv',\n",
       " '201806-capitalbikeshare-tripdata.csv',\n",
       " '201807-capitalbikeshare-tripdata.csv',\n",
       " '201808-capitalbikeshare-tripdata.csv',\n",
       " '201809-capitalbikeshare-tripdata.csv',\n",
       " '201810-capitalbikeshare-tripdata.csv',\n",
       " '201811-capitalbikeshare-tripdata.csv',\n",
       " '201812-capitalbikeshare-tripdata.csv',\n",
       " '201901-capitalbikeshare-tripdata.csv',\n",
       " '201902-capitalbikeshare-tripdata.csv',\n",
       " '201903-capitalbikeshare-tripdata.csv',\n",
       " '201904-capitalbikeshare-tripdata.csv',\n",
       " '201905-capitalbikeshare-tripdata.csv',\n",
       " '201906-capitalbikeshare-tripdata.csv',\n",
       " '201907-capitalbikeshare-tripdata.csv',\n",
       " '201908-capitalbikeshare-tripdata.csv',\n",
       " '201909-capitalbikeshare-tripdata.csv',\n",
       " '201910-capitalbikeshare-tripdata.csv',\n",
       " '201911-capitalbikeshare-tripdata.csv',\n",
       " '201912-capitalbikeshare-tripdata.csv',\n",
       " '202001-capitalbikeshare-tripdata.csv',\n",
       " '202002-capitalbikeshare-tripdata.csv',\n",
       " '202003-capitalbikeshare-tripdata.csv',\n",
       " '202004-capitalbikeshare-tripdata.csv',\n",
       " '202005-capitalbikeshare-tripdata.csv',\n",
       " '202006-capitalbikeshare-tripdata.csv',\n",
       " '202007-capitalbikeshare-tripdata.csv',\n",
       " '202008-capitalbikeshare-tripdata.csv',\n",
       " '202009-capitalbikeshare-tripdata.csv',\n",
       " '202010-capitalbikeshare-tripdata.csv',\n",
       " '202011-capitalbikeshare-tripdata.csv',\n",
       " '202012-capitalbikeshare-tripdata.csv',\n",
       " '202101-capitalbikeshare-tripdata.csv',\n",
       " '202102-capitalbikeshare-tripdata.csv',\n",
       " '202103-capitalbikeshare-tripdata.csv',\n",
       " '202104-capitalbikeshare-tripdata.csv',\n",
       " '202105-capitalbikeshare-tripdata.csv',\n",
       " '202106-capitalbikeshare-tripdata.csv',\n",
       " '202107-capitalbikeshare-tripdata.csv',\n",
       " '202108-capitalbikeshare-tripdata.csv',\n",
       " '202109-capitalbikeshare-tripdata.csv',\n",
       " '202110-capitalbikeshare-tripdata.csv']"
      ]
     },
     "metadata": {},
     "execution_count": 47
    }
   ],
   "metadata": {}
  },
  {
   "cell_type": "markdown",
   "source": [
    "2020-04 is the marker"
   ],
   "metadata": {}
  },
  {
   "cell_type": "code",
   "execution_count": 51,
   "source": [
    "csv_list = os.listdir()\n",
    "csv_list.sort()\n",
    "csv_list.remove('.DS_Store')\n",
    "csv_list1 = csv_list[22:53]\n",
    "csv_list2 = csv_list[53:72]"
   ],
   "outputs": [],
   "metadata": {}
  },
  {
   "cell_type": "code",
   "execution_count": 52,
   "source": [
    "collect_df = pd.DataFrame()\n",
    "\n",
    "colnamedict = dict(zip(['Duration', 'Start date', 'End date', 'Start station number', \n",
    "                'End station number', 'Member type'], ['ride_id', 'started_at', 'ended_at', \n",
    "                'start_station_id', 'end_station_id', 'member_casual']))"
   ],
   "outputs": [],
   "metadata": {}
  },
  {
   "cell_type": "code",
   "execution_count": 53,
   "source": [
    "for f in csv_list1:\n",
    "    df = pd.read_csv(f, \n",
    "    usecols=['Duration',\n",
    "            'Start date',\n",
    "            'End date',         \n",
    "            'Start station number',\n",
    "            'End station number',\n",
    "            'Member type'])\n",
    "    df.rename(columns=colnamedict, inplace=True)\n",
    "    collect_df = collect_df.append(df, ignore_index=True)\n",
    "\n",
    "    l = list(df)\n",
    "    del df\n",
    "    del l\n",
    "    print(f)\n",
    "\n",
    "for f in csv_list2:\n",
    "    df = pd.read_csv(f,\n",
    "        usecols=['ride_id',         #To convert to duration by ended_at - started_at\n",
    "            'started_at',\n",
    "            'ended_at',\n",
    "            'start_station_id',\n",
    "            'end_station_id',\n",
    "            'member_casual'])\n",
    "    collect_df = collect_df.append(df, ignore_index=True)\n",
    "    print(f)\n",
    "\n",
    "    l = list(df)\n",
    "    del df\n",
    "    del l"
   ],
   "outputs": [
    {
     "output_type": "stream",
     "name": "stdout",
     "text": [
      "2017Q1-capitalbikeshare-tripdata.csv\n",
      "2017Q2-capitalbikeshare-tripdata.csv\n",
      "2017Q3-capitalbikeshare-tripdata.csv\n",
      "2017Q4-capitalbikeshare-tripdata.csv\n",
      "201801_capitalbikeshare_tripdata.csv\n",
      "201802-capitalbikeshare-tripdata.csv\n",
      "201803-capitalbikeshare-tripdata.csv\n",
      "201804-capitalbikeshare-tripdata.csv\n",
      "201805-capitalbikeshare-tripdata.csv\n",
      "201806-capitalbikeshare-tripdata.csv\n",
      "201807-capitalbikeshare-tripdata.csv\n",
      "201808-capitalbikeshare-tripdata.csv\n",
      "201809-capitalbikeshare-tripdata.csv\n",
      "201810-capitalbikeshare-tripdata.csv\n",
      "201811-capitalbikeshare-tripdata.csv\n",
      "201812-capitalbikeshare-tripdata.csv\n",
      "201901-capitalbikeshare-tripdata.csv\n",
      "201902-capitalbikeshare-tripdata.csv\n",
      "201903-capitalbikeshare-tripdata.csv\n",
      "201904-capitalbikeshare-tripdata.csv\n",
      "201905-capitalbikeshare-tripdata.csv\n",
      "201906-capitalbikeshare-tripdata.csv\n",
      "201907-capitalbikeshare-tripdata.csv\n",
      "201908-capitalbikeshare-tripdata.csv\n",
      "201909-capitalbikeshare-tripdata.csv\n",
      "201910-capitalbikeshare-tripdata.csv\n",
      "201911-capitalbikeshare-tripdata.csv\n",
      "201912-capitalbikeshare-tripdata.csv\n",
      "202001-capitalbikeshare-tripdata.csv\n",
      "202002-capitalbikeshare-tripdata.csv\n",
      "202003-capitalbikeshare-tripdata.csv\n",
      "202004-capitalbikeshare-tripdata.csv\n",
      "202005-capitalbikeshare-tripdata.csv\n",
      "202006-capitalbikeshare-tripdata.csv\n",
      "202007-capitalbikeshare-tripdata.csv\n",
      "202008-capitalbikeshare-tripdata.csv\n",
      "202009-capitalbikeshare-tripdata.csv\n",
      "202010-capitalbikeshare-tripdata.csv\n",
      "202011-capitalbikeshare-tripdata.csv\n",
      "202012-capitalbikeshare-tripdata.csv\n",
      "202101-capitalbikeshare-tripdata.csv\n",
      "202102-capitalbikeshare-tripdata.csv\n",
      "202103-capitalbikeshare-tripdata.csv\n",
      "202104-capitalbikeshare-tripdata.csv\n",
      "202105-capitalbikeshare-tripdata.csv\n",
      "202106-capitalbikeshare-tripdata.csv\n",
      "202107-capitalbikeshare-tripdata.csv\n",
      "202108-capitalbikeshare-tripdata.csv\n",
      "202109-capitalbikeshare-tripdata.csv\n",
      "202110-capitalbikeshare-tripdata.csv\n"
     ]
    }
   ],
   "metadata": {}
  },
  {
   "cell_type": "code",
   "execution_count": 54,
   "source": [
    "collect_df.started_at = collect_df.started_at.astype('datetime64')\n",
    "collect_df.ended_at = collect_df.ended_at.astype('datetime64')\n",
    "\n",
    "collect_df.ride_id = (collect_df.ended_at - collect_df.started_at).dt.total_seconds()\n",
    "collect_df.ride_id = collect_df.ride_id.astype('int32')\n",
    "\n",
    "collect_df.rename(columns={\"ride_id\": \"duration\"}, inplace=True)\n"
   ],
   "outputs": [],
   "metadata": {}
  },
  {
   "cell_type": "code",
   "execution_count": 55,
   "source": [
    "collect_df"
   ],
   "outputs": [
    {
     "output_type": "execute_result",
     "data": {
      "text/html": [
       "<div>\n",
       "<style scoped>\n",
       "    .dataframe tbody tr th:only-of-type {\n",
       "        vertical-align: middle;\n",
       "    }\n",
       "\n",
       "    .dataframe tbody tr th {\n",
       "        vertical-align: top;\n",
       "    }\n",
       "\n",
       "    .dataframe thead th {\n",
       "        text-align: right;\n",
       "    }\n",
       "</style>\n",
       "<table border=\"1\" class=\"dataframe\">\n",
       "  <thead>\n",
       "    <tr style=\"text-align: right;\">\n",
       "      <th></th>\n",
       "      <th>duration</th>\n",
       "      <th>started_at</th>\n",
       "      <th>ended_at</th>\n",
       "      <th>start_station_id</th>\n",
       "      <th>end_station_id</th>\n",
       "      <th>member_casual</th>\n",
       "    </tr>\n",
       "  </thead>\n",
       "  <tbody>\n",
       "    <tr>\n",
       "      <th>0</th>\n",
       "      <td>222</td>\n",
       "      <td>2017-01-01 00:00:41</td>\n",
       "      <td>2017-01-01 00:04:23</td>\n",
       "      <td>31634.0</td>\n",
       "      <td>31208.0</td>\n",
       "      <td>Member</td>\n",
       "    </tr>\n",
       "    <tr>\n",
       "      <th>1</th>\n",
       "      <td>1676</td>\n",
       "      <td>2017-01-01 00:06:53</td>\n",
       "      <td>2017-01-01 00:34:49</td>\n",
       "      <td>31258.0</td>\n",
       "      <td>31270.0</td>\n",
       "      <td>Casual</td>\n",
       "    </tr>\n",
       "    <tr>\n",
       "      <th>2</th>\n",
       "      <td>1357</td>\n",
       "      <td>2017-01-01 00:07:10</td>\n",
       "      <td>2017-01-01 00:29:47</td>\n",
       "      <td>31289.0</td>\n",
       "      <td>31222.0</td>\n",
       "      <td>Casual</td>\n",
       "    </tr>\n",
       "    <tr>\n",
       "      <th>3</th>\n",
       "      <td>1328</td>\n",
       "      <td>2017-01-01 00:07:22</td>\n",
       "      <td>2017-01-01 00:29:30</td>\n",
       "      <td>31289.0</td>\n",
       "      <td>31222.0</td>\n",
       "      <td>Casual</td>\n",
       "    </tr>\n",
       "    <tr>\n",
       "      <th>4</th>\n",
       "      <td>1636</td>\n",
       "      <td>2017-01-01 00:07:36</td>\n",
       "      <td>2017-01-01 00:34:52</td>\n",
       "      <td>31258.0</td>\n",
       "      <td>31270.0</td>\n",
       "      <td>Casual</td>\n",
       "    </tr>\n",
       "    <tr>\n",
       "      <th>...</th>\n",
       "      <td>...</td>\n",
       "      <td>...</td>\n",
       "      <td>...</td>\n",
       "      <td>...</td>\n",
       "      <td>...</td>\n",
       "      <td>...</td>\n",
       "    </tr>\n",
       "    <tr>\n",
       "      <th>15232764</th>\n",
       "      <td>2766</td>\n",
       "      <td>2021-10-27 19:17:28</td>\n",
       "      <td>2021-10-27 20:03:34</td>\n",
       "      <td>31291.0</td>\n",
       "      <td>31707.0</td>\n",
       "      <td>member</td>\n",
       "    </tr>\n",
       "    <tr>\n",
       "      <th>15232765</th>\n",
       "      <td>971</td>\n",
       "      <td>2021-10-05 18:10:06</td>\n",
       "      <td>2021-10-05 18:26:17</td>\n",
       "      <td>31291.0</td>\n",
       "      <td>31649.0</td>\n",
       "      <td>casual</td>\n",
       "    </tr>\n",
       "    <tr>\n",
       "      <th>15232766</th>\n",
       "      <td>396</td>\n",
       "      <td>2021-10-14 13:32:51</td>\n",
       "      <td>2021-10-14 13:39:27</td>\n",
       "      <td>31230.0</td>\n",
       "      <td>31266.0</td>\n",
       "      <td>member</td>\n",
       "    </tr>\n",
       "    <tr>\n",
       "      <th>15232767</th>\n",
       "      <td>428</td>\n",
       "      <td>2021-10-28 19:13:39</td>\n",
       "      <td>2021-10-28 19:20:47</td>\n",
       "      <td>31201.0</td>\n",
       "      <td>31266.0</td>\n",
       "      <td>member</td>\n",
       "    </tr>\n",
       "    <tr>\n",
       "      <th>15232768</th>\n",
       "      <td>1096</td>\n",
       "      <td>2021-10-15 01:21:01</td>\n",
       "      <td>2021-10-15 01:39:17</td>\n",
       "      <td>31201.0</td>\n",
       "      <td>31266.0</td>\n",
       "      <td>member</td>\n",
       "    </tr>\n",
       "  </tbody>\n",
       "</table>\n",
       "<p>15232769 rows × 6 columns</p>\n",
       "</div>"
      ],
      "text/plain": [
       "          duration          started_at            ended_at start_station_id  \\\n",
       "0              222 2017-01-01 00:00:41 2017-01-01 00:04:23          31634.0   \n",
       "1             1676 2017-01-01 00:06:53 2017-01-01 00:34:49          31258.0   \n",
       "2             1357 2017-01-01 00:07:10 2017-01-01 00:29:47          31289.0   \n",
       "3             1328 2017-01-01 00:07:22 2017-01-01 00:29:30          31289.0   \n",
       "4             1636 2017-01-01 00:07:36 2017-01-01 00:34:52          31258.0   \n",
       "...            ...                 ...                 ...              ...   \n",
       "15232764      2766 2021-10-27 19:17:28 2021-10-27 20:03:34          31291.0   \n",
       "15232765       971 2021-10-05 18:10:06 2021-10-05 18:26:17          31291.0   \n",
       "15232766       396 2021-10-14 13:32:51 2021-10-14 13:39:27          31230.0   \n",
       "15232767       428 2021-10-28 19:13:39 2021-10-28 19:20:47          31201.0   \n",
       "15232768      1096 2021-10-15 01:21:01 2021-10-15 01:39:17          31201.0   \n",
       "\n",
       "         end_station_id member_casual  \n",
       "0               31208.0        Member  \n",
       "1               31270.0        Casual  \n",
       "2               31222.0        Casual  \n",
       "3               31222.0        Casual  \n",
       "4               31270.0        Casual  \n",
       "...                 ...           ...  \n",
       "15232764        31707.0        member  \n",
       "15232765        31649.0        casual  \n",
       "15232766        31266.0        member  \n",
       "15232767        31266.0        member  \n",
       "15232768        31266.0        member  \n",
       "\n",
       "[15232769 rows x 6 columns]"
      ]
     },
     "metadata": {},
     "execution_count": 55
    }
   ],
   "metadata": {}
  },
  {
   "cell_type": "code",
   "execution_count": 56,
   "source": [
    "collect_df = collect_df[collect_df.duration > 0]"
   ],
   "outputs": [],
   "metadata": {}
  },
  {
   "cell_type": "code",
   "execution_count": 57,
   "source": [
    "collect_df.dropna(inplace=True)"
   ],
   "outputs": [
    {
     "output_type": "stream",
     "name": "stderr",
     "text": [
      "/Library/Frameworks/Python.framework/Versions/3.9/lib/python3.9/site-packages/pandas/util/_decorators.py:311: SettingWithCopyWarning: \n",
      "A value is trying to be set on a copy of a slice from a DataFrame\n",
      "\n",
      "See the caveats in the documentation: https://pandas.pydata.org/pandas-docs/stable/user_guide/indexing.html#returning-a-view-versus-a-copy\n",
      "  return func(*args, **kwargs)\n"
     ]
    }
   ],
   "metadata": {}
  },
  {
   "cell_type": "code",
   "execution_count": 58,
   "source": [
    "import re \n",
    "\n",
    "digit_pattern = re.compile(\"^\\d+\\.*\\d*$\")\n",
    "a = list(collect_df[\"start_station_id\"])\n",
    "filt = list(map(lambda x: bool(digit_pattern.search(str(x))), a))\n",
    "\n",
    "collect_df = collect_df[filt]"
   ],
   "outputs": [],
   "metadata": {}
  },
  {
   "cell_type": "code",
   "execution_count": 59,
   "source": [
    "a = list(collect_df[\"end_station_id\"])\n",
    "filt = list(map(lambda x: bool(digit_pattern.search(str(x))), a))\n",
    "\n",
    "collect_df = collect_df[filt]"
   ],
   "outputs": [],
   "metadata": {}
  },
  {
   "cell_type": "code",
   "execution_count": 60,
   "source": [
    "collect_df.start_station_id = collect_df.start_station_id.astype(int)\n",
    "collect_df.end_station_id = collect_df.end_station_id.astype(int)"
   ],
   "outputs": [],
   "metadata": {}
  },
  {
   "cell_type": "code",
   "execution_count": 61,
   "source": [
    "collect_df.to_csv(\"../bike_share_data_all2.csv\")"
   ],
   "outputs": [],
   "metadata": {}
  },
  {
   "cell_type": "code",
   "execution_count": 62,
   "source": [
    "os.chdir(\"../\")"
   ],
   "outputs": [],
   "metadata": {}
  },
  {
   "cell_type": "code",
   "execution_count": 63,
   "source": [
    "loc_df = pd.read_csv(\"location_unique2.csv\")\n"
   ],
   "outputs": [],
   "metadata": {}
  },
  {
   "cell_type": "code",
   "execution_count": 64,
   "source": [
    "loc_df"
   ],
   "outputs": [
    {
     "output_type": "execute_result",
     "data": {
      "text/html": [
       "<div>\n",
       "<style scoped>\n",
       "    .dataframe tbody tr th:only-of-type {\n",
       "        vertical-align: middle;\n",
       "    }\n",
       "\n",
       "    .dataframe tbody tr th {\n",
       "        vertical-align: top;\n",
       "    }\n",
       "\n",
       "    .dataframe thead th {\n",
       "        text-align: right;\n",
       "    }\n",
       "</style>\n",
       "<table border=\"1\" class=\"dataframe\">\n",
       "  <thead>\n",
       "    <tr style=\"text-align: right;\">\n",
       "      <th></th>\n",
       "      <th>station_name</th>\n",
       "      <th>station_id</th>\n",
       "      <th>lat</th>\n",
       "      <th>lng</th>\n",
       "    </tr>\n",
       "  </thead>\n",
       "  <tbody>\n",
       "    <tr>\n",
       "      <th>0</th>\n",
       "      <td>Rhode Island &amp; Connecticut Ave NW</td>\n",
       "      <td>31239</td>\n",
       "      <td>38.905996</td>\n",
       "      <td>-77.039802</td>\n",
       "    </tr>\n",
       "    <tr>\n",
       "      <th>1</th>\n",
       "      <td>21st &amp; I St NW</td>\n",
       "      <td>31205</td>\n",
       "      <td>38.900711</td>\n",
       "      <td>-77.046449</td>\n",
       "    </tr>\n",
       "    <tr>\n",
       "      <th>2</th>\n",
       "      <td>Connecticut Ave &amp; Tilden St NW</td>\n",
       "      <td>31313</td>\n",
       "      <td>38.941139</td>\n",
       "      <td>-77.061977</td>\n",
       "    </tr>\n",
       "    <tr>\n",
       "      <th>3</th>\n",
       "      <td>7th &amp; E St SW</td>\n",
       "      <td>31294</td>\n",
       "      <td>38.883450</td>\n",
       "      <td>-77.021741</td>\n",
       "    </tr>\n",
       "    <tr>\n",
       "      <th>4</th>\n",
       "      <td>Potomac &amp; Pennsylvania Ave SE</td>\n",
       "      <td>31606</td>\n",
       "      <td>38.880300</td>\n",
       "      <td>-76.986200</td>\n",
       "    </tr>\n",
       "    <tr>\n",
       "      <th>...</th>\n",
       "      <td>...</td>\n",
       "      <td>...</td>\n",
       "      <td>...</td>\n",
       "      <td>...</td>\n",
       "    </tr>\n",
       "    <tr>\n",
       "      <th>666</th>\n",
       "      <td>Hartland Rd &amp; Harte Pl</td>\n",
       "      <td>32255</td>\n",
       "      <td>38.878601</td>\n",
       "      <td>-77.222808</td>\n",
       "    </tr>\n",
       "    <tr>\n",
       "      <th>667</th>\n",
       "      <td>Arizona &amp; McArthur NW</td>\n",
       "      <td>31331</td>\n",
       "      <td>38.927294</td>\n",
       "      <td>-77.103662</td>\n",
       "    </tr>\n",
       "    <tr>\n",
       "      <th>668</th>\n",
       "      <td>4th &amp; Florida Ave NE</td>\n",
       "      <td>31532</td>\n",
       "      <td>38.907316</td>\n",
       "      <td>-77.000698</td>\n",
       "    </tr>\n",
       "    <tr>\n",
       "      <th>669</th>\n",
       "      <td>Motivate Tech Office</td>\n",
       "      <td>32902</td>\n",
       "      <td>NaN</td>\n",
       "      <td>NaN</td>\n",
       "    </tr>\n",
       "    <tr>\n",
       "      <th>670</th>\n",
       "      <td>N Howard St &amp; N Imboden St</td>\n",
       "      <td>31952</td>\n",
       "      <td>38.818509</td>\n",
       "      <td>-77.105564</td>\n",
       "    </tr>\n",
       "  </tbody>\n",
       "</table>\n",
       "<p>671 rows × 4 columns</p>\n",
       "</div>"
      ],
      "text/plain": [
       "                          station_name  station_id        lat        lng\n",
       "0    Rhode Island & Connecticut Ave NW       31239  38.905996 -77.039802\n",
       "1                       21st & I St NW       31205  38.900711 -77.046449\n",
       "2       Connecticut Ave & Tilden St NW       31313  38.941139 -77.061977\n",
       "3                        7th & E St SW       31294  38.883450 -77.021741\n",
       "4        Potomac & Pennsylvania Ave SE       31606  38.880300 -76.986200\n",
       "..                                 ...         ...        ...        ...\n",
       "666             Hartland Rd & Harte Pl       32255  38.878601 -77.222808\n",
       "667              Arizona & McArthur NW       31331  38.927294 -77.103662\n",
       "668               4th & Florida Ave NE       31532  38.907316 -77.000698\n",
       "669               Motivate Tech Office       32902        NaN        NaN\n",
       "670         N Howard St & N Imboden St       31952  38.818509 -77.105564\n",
       "\n",
       "[671 rows x 4 columns]"
      ]
     },
     "metadata": {},
     "execution_count": 64
    }
   ],
   "metadata": {}
  },
  {
   "cell_type": "code",
   "execution_count": 65,
   "source": [
    "collect_df = collect_df.merge(loc_df, 'left', left_on=\"start_station_id\",\n",
    "                    right_on=\"station_id\").rename(columns={\"station_name\": \"start_station_name\",\n",
    "                    \"lat\": \"start_lat\", \n",
    "                    \"lng\": \"start_lng\"})\n",
    "\n",
    "collect_df = collect_df.merge(loc_df, 'left', left_on=\"end_station_id\",\n",
    "                    right_on=\"station_id\").rename(columns={\"station_name\": \"end_station_name\",\n",
    "                    \"lat\": \"end_lat\", \n",
    "                    \"lng\": \"end_lng\"})"
   ],
   "outputs": [],
   "metadata": {}
  },
  {
   "cell_type": "code",
   "execution_count": 22,
   "source": [
    "collect_df.drop(columns=[\"station_id_x\", \"station_id_y\"], inplace=True)"
   ],
   "outputs": [],
   "metadata": {}
  },
  {
   "cell_type": "code",
   "execution_count": 66,
   "source": [
    "collect_df.isna().sum() * 100 / collect_df.shape[0] "
   ],
   "outputs": [
    {
     "output_type": "execute_result",
     "data": {
      "text/plain": [
       "duration              0.000000\n",
       "started_at            0.000000\n",
       "ended_at              0.000000\n",
       "start_station_id      0.000000\n",
       "end_station_id        0.000000\n",
       "member_casual         0.000000\n",
       "start_station_name    0.086680\n",
       "station_id_x          0.086680\n",
       "start_lat             0.086734\n",
       "start_lng             0.086734\n",
       "end_station_name      0.089983\n",
       "station_id_y          0.089983\n",
       "end_lat               0.090043\n",
       "end_lng               0.090043\n",
       "dtype: float64"
      ]
     },
     "metadata": {},
     "execution_count": 66
    }
   ],
   "metadata": {}
  },
  {
   "cell_type": "code",
   "execution_count": 61,
   "source": [
    "collect_df.to_csv(\"bike_final_data.csv\", index=False)"
   ],
   "outputs": [],
   "metadata": {}
  }
 ],
 "metadata": {
  "orig_nbformat": 4,
  "language_info": {
   "name": "python",
   "version": "3.9.7",
   "mimetype": "text/x-python",
   "codemirror_mode": {
    "name": "ipython",
    "version": 3
   },
   "pygments_lexer": "ipython3",
   "nbconvert_exporter": "python",
   "file_extension": ".py"
  },
  "kernelspec": {
   "name": "python3",
   "display_name": "Python 3.9.7 64-bit"
  },
  "interpreter": {
   "hash": "aee8b7b246df8f9039afb4144a1f6fd8d2ca17a180786b69acc140d282b71a49"
  }
 },
 "nbformat": 4,
 "nbformat_minor": 2
}